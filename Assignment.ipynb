{
  "metadata": {
    "language_info": {
      "codemirror_mode": {
        "name": "python",
        "version": 3
      },
      "file_extension": ".py",
      "mimetype": "text/x-python",
      "name": "python",
      "nbconvert_exporter": "python",
      "pygments_lexer": "ipython3",
      "version": "3.8"
    },
    "kernelspec": {
      "name": "python",
      "display_name": "Pyolite",
      "language": "python"
    }
  },
  "nbformat_minor": 4,
  "nbformat": 4,
  "cells": [
    {
      "cell_type": "markdown",
      "source": "# My Jupyter Notebook on IBM Watson Studio.",
      "metadata": {}
    },
    {
      "cell_type": "markdown",
      "source": "<b> Joanna Wang <br>   \n ##### Data Scientist\n",
      "metadata": {}
    },
    {
      "cell_type": "markdown",
      "source": "* I am interested in data science because it can provide insights to help organizations make improvement.",
      "metadata": {}
    },
    {
      "cell_type": "markdown",
      "source": "### Simple addition",
      "metadata": {}
    },
    {
      "cell_type": "code",
      "source": "def addition(a,b):\n    return a + b\nprint(addition(2,3))",
      "metadata": {
        "trusted": true
      },
      "execution_count": 4,
      "outputs": [
        {
          "name": "stdout",
          "text": "5\n",
          "output_type": "stream"
        }
      ]
    },
    {
      "cell_type": "markdown",
      "source": "\n# Bulleted list\n- This is the first line.\n- This is the second line.\n    - This is line a.\n    - This is line b.\n\n# Numbered list\n1. Line number 1.\n2. Line number 2.\n    1. Sub line number one.\n    2. Sub line number 3.\n    \n # Hyperlinks\n [TestLink](https://www.google.com)\n \n # Table\n \n|Name|Age|Score|\n|---|---|---|\n|Jane|18|100|\n|Jack|19|99|\n|Lucy|18|96|\n\n# Horizontal rule\nWeek 1 list.\n***\nWeek 2 list\n___\n\n# Strikethough\nThis is a test. ~~Remove this part.~~",
      "metadata": {}
    },
    {
      "cell_type": "code",
      "source": "",
      "metadata": {},
      "execution_count": null,
      "outputs": []
    }
  ]
}